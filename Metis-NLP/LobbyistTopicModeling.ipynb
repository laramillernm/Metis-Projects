{
 "cells": [
  {
   "cell_type": "code",
   "execution_count": 2,
   "metadata": {},
   "outputs": [],
   "source": [
    "import pandas as pd"
   ]
  },
  {
   "cell_type": "code",
   "execution_count": 3,
   "metadata": {},
   "outputs": [
    {
     "data": {
      "text/html": [
       "<div>\n",
       "<style scoped>\n",
       "    .dataframe tbody tr th:only-of-type {\n",
       "        vertical-align: middle;\n",
       "    }\n",
       "\n",
       "    .dataframe tbody tr th {\n",
       "        vertical-align: top;\n",
       "    }\n",
       "\n",
       "    .dataframe thead th {\n",
       "        text-align: right;\n",
       "    }\n",
       "</style>\n",
       "<table border=\"1\" class=\"dataframe\">\n",
       "  <thead>\n",
       "    <tr style=\"text-align: right;\">\n",
       "      <th></th>\n",
       "      <th>Orig_empl</th>\n",
       "      <th>Employer</th>\n",
       "      <th>Interest2</th>\n",
       "    </tr>\n",
       "  </thead>\n",
       "  <tbody>\n",
       "    <tr>\n",
       "      <th>661</th>\n",
       "      <td>Hobson Consulting</td>\n",
       "      <td>Hobson Consulting</td>\n",
       "      <td>LOBBYIST CONSULTANTS, GENERAL CONSULTING &amp; LAW...</td>\n",
       "    </tr>\n",
       "  </tbody>\n",
       "</table>\n",
       "</div>"
      ],
      "text/plain": [
       "             Orig_empl           Employer  \\\n",
       "661  Hobson Consulting  Hobson Consulting   \n",
       "\n",
       "                                             Interest2  \n",
       "661  LOBBYIST CONSULTANTS, GENERAL CONSULTING & LAW...  "
      ]
     },
     "execution_count": 3,
     "metadata": {},
     "output_type": "execute_result"
    }
   ],
   "source": [
    "df_LobbyEmployer = pd.read_csv('LobbyistIndex_categorized.csv')"
   ]
  },
  {
   "cell_type": "code",
   "execution_count": 263,
   "metadata": {},
   "outputs": [
    {
     "data": {
      "text/html": [
       "<div>\n",
       "<style scoped>\n",
       "    .dataframe tbody tr th:only-of-type {\n",
       "        vertical-align: middle;\n",
       "    }\n",
       "\n",
       "    .dataframe tbody tr th {\n",
       "        vertical-align: top;\n",
       "    }\n",
       "\n",
       "    .dataframe thead th {\n",
       "        text-align: right;\n",
       "    }\n",
       "</style>\n",
       "<table border=\"1\" class=\"dataframe\">\n",
       "  <thead>\n",
       "    <tr style=\"text-align: right;\">\n",
       "      <th></th>\n",
       "      <th>Unnamed: 0</th>\n",
       "      <th>file_name</th>\n",
       "      <th>BillText</th>\n",
       "      <th>BillSummary</th>\n",
       "    </tr>\n",
       "  </thead>\n",
       "  <tbody>\n",
       "    <tr>\n",
       "      <th>274</th>\n",
       "      <td>274</td>\n",
       "      <td>Yr_13RSB0444.txt</td>\n",
       "      <td>An Act Relating To Horse Racing; Increasing ...</td>\n",
       "      <td>An Act Relating To Horse Racing; Increasing ...</td>\n",
       "    </tr>\n",
       "  </tbody>\n",
       "</table>\n",
       "</div>"
      ],
      "text/plain": [
       "     Unnamed: 0         file_name  \\\n",
       "274         274  Yr_13RSB0444.txt   \n",
       "\n",
       "                                              BillText  \\\n",
       "274    An Act Relating To Horse Racing; Increasing ...   \n",
       "\n",
       "                                           BillSummary  \n",
       "274    An Act Relating To Horse Racing; Increasing ...  "
      ]
     },
     "execution_count": 263,
     "metadata": {},
     "output_type": "execute_result"
    }
   ],
   "source": [
    "df_BillSummary = pd.read_csv('SummaryText.csv')\n",
    "df_BillSummary.sample()"
   ]
  },
  {
   "cell_type": "code",
   "execution_count": 293,
   "metadata": {},
   "outputs": [],
   "source": [
    "### import packages for lemmatize words\n",
    "import nltk\n",
    "from nltk.corpus import stopwords  #stopwords\n",
    "from nltk.stem import WordNetLemmatizer  \n",
    "from sklearn.feature_extraction.text import TfidfVectorizer\n",
    "stop_words=set(nltk.corpus.stopwords.words('english'))\n",
    "\n"
   ]
  },
  {
   "cell_type": "code",
   "execution_count": 324,
   "metadata": {},
   "outputs": [],
   "source": [
    "stop = stopwords.words('english')\n",
    "newstopwords =['aa', 'aaa','nmsa', 'article', 'section', 'section', 'shall', 'state', \n",
    "             'page', 'county', 'act', 'dollars', 'new', \n",
    "             'public', 'thousand', 'may', 'nmsa', 'services','means', 'hundred', 'chapter', 'plan', 'amended',\n",
    "             'person', 'mexico', 'one', 'tax', 'laws', 'program', 'board', 'provided', 'general', 'subsection', \n",
    "             'year', 'b', 'including', 'design', 'funds', 'service', 'read', 'construct', 'federal', 'provisions',\n",
    "             'sb', 'purchase', 'within', 'provide', 'sb', 'c', 'hb', 'percent', 'years', 'amount', 'two', 'law', \n",
    "            'date', 'upon', 'used', 'made', 'required', 'following', 'five', 'days', 'aamodt', 'ab', 'abaft', 'two',\n",
    "               'three', 'fifty','fourth', 'included', 'svc', 'sfcsb', 'pursuant', 'department', 'act', 'facility', 'relating',\n",
    "              'enabling', 'articles', 'enacted', 'legislature', 'district', 'allowing', 'enacting', 'amending', 'requiring', \n",
    "               'definitions', 'providing']\n",
    "### added stop word based on frequncy - see code below\n",
    "stop.extend(newstopwords)"
   ]
  },
  {
   "cell_type": "code",
   "execution_count": 356,
   "metadata": {},
   "outputs": [],
   "source": [
    "def clean_text(headline):\n",
    "    le=WordNetLemmatizer()\n",
    "    word_tokens=word_tokenize(headline)\n",
    "    tokens=[le.lemmatize(w) for w in word_tokens if w not in stop_words and len(w)>5 and w.isalpha()]\n",
    "    cleaned_text=\" \".join(tokens)\n",
    "    return cleaned_text\n",
    "df_LobbyEmployer['cleaned_text']=df_LobbyEmployer['Employer'].apply(clean_text)"
   ]
  },
  {
   "cell_type": "code",
   "execution_count": 357,
   "metadata": {},
   "outputs": [],
   "source": [
    "vect =TfidfVectorizer(stop_words=stop,max_features=100000, ngram_range=(1,4), sublinear_tf = False )\n",
    "vect_text=vect.fit_transform(df_LobbyEmployer['cleaned_text'])"
   ]
  },
  {
   "cell_type": "code",
   "execution_count": 359,
   "metadata": {},
   "outputs": [],
   "source": [
    "from sklearn.decomposition import LatentDirichletAllocation\n",
    "lda_model=LatentDirichletAllocation(n_components=38,\n",
    "learning_method='online',max_iter=100) \n",
    "lda_top=lda_model.fit_transform(vect_text)"
   ]
  },
  {
   "cell_type": "code",
   "execution_count": 360,
   "metadata": {},
   "outputs": [
    {
     "name": "stdout",
     "output_type": "stream",
     "text": [
      "Document 0: \n",
      "Topic  0 :  0.976724576044424 %\n",
      "Topic  1 :  49.193128708360426 %\n",
      "Topic  2 :  0.976724576044424 %\n",
      "Topic  3 :  0.976724576044424 %\n",
      "Topic  4 :  0.976724576044424 %\n",
      "Topic  5 :  0.976724576044424 %\n",
      "Topic  6 :  0.976724576044424 %\n",
      "Topic  7 :  0.976724576044424 %\n",
      "Topic  8 :  0.976724576044424 %\n",
      "Topic  9 :  0.976724576044424 %\n",
      "Topic  10 :  0.976724576044424 %\n",
      "Topic  11 :  0.976724576044424 %\n",
      "Topic  12 :  0.976724576044424 %\n",
      "Topic  13 :  15.644786554040344 %\n",
      "Topic  14 :  0.976724576044424 %\n",
      "Topic  15 :  0.976724576044424 %\n",
      "Topic  16 :  0.976724576044424 %\n",
      "Topic  17 :  0.976724576044424 %\n",
      "Topic  18 :  0.976724576044424 %\n",
      "Topic  19 :  0.976724576044424 %\n",
      "Topic  20 :  0.976724576044424 %\n",
      "Topic  21 :  0.976724576044424 %\n",
      "Topic  22 :  0.976724576044424 %\n",
      "Topic  23 :  0.976724576044424 %\n",
      "Topic  24 :  0.976724576044424 %\n",
      "Topic  25 :  0.976724576044424 %\n",
      "Topic  26 :  0.976724576044424 %\n",
      "Topic  27 :  0.976724576044424 %\n",
      "Topic  28 :  0.976724576044424 %\n",
      "Topic  29 :  0.976724576044424 %\n",
      "Topic  30 :  0.976724576044424 %\n",
      "Topic  31 :  0.976724576044424 %\n",
      "Topic  32 :  0.976724576044424 %\n",
      "Topic  33 :  0.976724576044424 %\n",
      "Topic  34 :  0.976724576044424 %\n",
      "Topic  35 :  0.976724576044424 %\n",
      "Topic  36 :  0.976724576044424 %\n",
      "Topic  37 :  0.976724576044424 %\n"
     ]
    }
   ],
   "source": [
    "print(\"Document 0: \")\n",
    "for i,topic in enumerate(lda_top[0]):\n",
    "    print(\"Topic \",i,\": \",topic*100,\"%\")"
   ]
  },
  {
   "cell_type": "code",
   "execution_count": 361,
   "metadata": {},
   "outputs": [
    {
     "name": "stdout",
     "output_type": "stream",
     "text": [
      "Topic 0: \n",
      "council gaming enterprise navajo \n",
      "\n",
      "Topic 1: \n",
      "committee partnership emissary livestock bureau \n",
      "\n",
      "Topic 2: \n",
      "industry construction environment entertainment \n",
      "\n",
      "Topic 3: \n",
      "advocacy distributors pharmaceuticals organization \n",
      "\n",
      "Topic 4: \n",
      "dental buisness gallup pacific \n",
      "\n",
      "Topic 5: \n",
      "solutions express indivior educate \n",
      "\n",
      "Topic 6: \n",
      "environmental giffords familia alternative \n",
      "\n",
      "Topic 7: \n",
      "resources hospital office special \n",
      "\n",
      "Topic 8: \n",
      "vivant resolana portage advice \n",
      "\n",
      "Topic 9: \n",
      "education university southwestern connections \n",
      "\n",
      "Topic 10: \n",
      "company companies technology mountain \n",
      "\n",
      "Topic 11: \n",
      "financial cellular viante equality \n",
      "\n",
      "Topic 12: \n",
      "control williams producers sandoval \n",
      "\n",
      "Topic 13: \n",
      "school grande charter charter school \n",
      "\n",
      "Topic 14: \n",
      "agenda cancer production western production \n",
      "\n",
      "Topic 15: \n",
      "management apache telecom professional \n",
      "\n",
      "Topic 16: \n",
      "alliance center southwest indian \n",
      "\n",
      "Topic 17: \n",
      "society valley distillers realty \n",
      "\n",
      "Topic 18: \n",
      "energy action academy educational \n",
      "\n",
      "Topic 19: \n",
      "consulting thompson thompson consulting castle \n",
      "\n",
      "Topic 20: \n",
      "ruidoso nmgasco hearing medlmmune \n",
      "\n",
      "Topic 21: \n",
      "children holdings northern yellow \n",
      "\n",
      "Topic 22: \n",
      "cruces military railroad pacific railroad \n",
      "\n",
      "Topic 23: \n",
      "foundation museum native bernalillo \n",
      "\n",
      "Topic 24: \n",
      "corporation institute petroleum mexicans \n",
      "\n",
      "Topic 25: \n",
      "association village contractors independent \n",
      "\n",
      "Topic 26: \n",
      "builders relations encana builders association \n",
      "\n",
      "Topic 27: \n",
      "healthcare pueblo coalition community \n",
      "\n",
      "Topic 28: \n",
      "common spirit western spirit studios \n",
      "\n",
      "Topic 29: \n",
      "league renewables finance network \n",
      "\n",
      "Topic 30: \n",
      "united national miguel chavez \n",
      "\n",
      "Topic 31: \n",
      "schools albuquerque economic realtors \n",
      "\n",
      "Topic 32: \n",
      "conservation specialists partners capital \n",
      "\n",
      "Topic 33: \n",
      "associates international futures market \n",
      "\n",
      "Topic 34: \n",
      "medical health development affiliates \n",
      "\n",
      "Topic 35: \n",
      "midstream affiliate alcohol parenthood \n",
      "\n",
      "Topic 36: \n",
      "federation charitable western states states federation \n",
      "\n",
      "Topic 37: \n",
      "america communications sierra windstream communications \n",
      "\n"
     ]
    }
   ],
   "source": [
    "topicwd = vect.get_feature_names()\n",
    "for i, comp in enumerate(lda_model.components_):\n",
    "    topicwd_comp = zip(topicwd, comp)\n",
    "    sorted_words = sorted(topicwd_comp, key= lambda x:x[1], reverse=True)[:4]\n",
    "    \n",
    "    print(\"Topic \"+str(i)+\": \")\n",
    "    for t in sorted_words:\n",
    "        print(t[0],end=\" \")\n",
    "    print('\\n')"
   ]
  },
  {
   "cell_type": "code",
   "execution_count": null,
   "metadata": {},
   "outputs": [],
   "source": [
    "new_column_names = [\"topic_{i}\".format(t=t) for i in range(0,M.shape[1])]"
   ]
  },
  {
   "cell_type": "code",
   "execution_count": 362,
   "metadata": {},
   "outputs": [],
   "source": [
    "from sklearn.decomposition import NMF"
   ]
  },
  {
   "cell_type": "code",
   "execution_count": 363,
   "metadata": {},
   "outputs": [
    {
     "name": "stderr",
     "output_type": "stream",
     "text": [
      "C:\\Users\\olive\\AppData\\Roaming\\Python\\Python38\\site-packages\\sklearn\\decomposition\\_nmf.py:289: FutureWarning: The 'init' value, when 'init=None' and n_components is less than n_samples and n_features, will be changed from 'nndsvd' to 'nndsvda' in 1.1 (renaming of 0.26).\n",
      "  warnings.warn(\n"
     ]
    }
   ],
   "source": [
    "### code from NMF class\n",
    "nmf_tfidf = NMF(38)\n",
    "nmf_tfidf_transformed = nmf_tfidf.fit_transform(X_tfidf)"
   ]
  },
  {
   "cell_type": "code",
   "execution_count": 364,
   "metadata": {},
   "outputs": [],
   "source": [
    "### code from example project given in office hours. Review to use in text summarization below\n",
    "import numpy as np\n",
    "def get_top_terms(topic, n_terms, model, vec):\n",
    "    terms = vec.get_feature_names_out()\n",
    "    # get the topic components (i.e., term weights)\n",
    "    comps = model.components_[topic]\n",
    "    # get term indices, sorted (descending) by topic weights\n",
    "    top_indices = np.argsort(comps)[-n_terms:]\n",
    "    # use the `terms` array to get the actual top terms\n",
    "    top_terms = np.array(terms)[top_indices]\n",
    "    return top_terms\n",
    "top_nmf_tfidf = [get_top_terms(i, 10, nmf_tfidf, cv_tfidf) for i in range(38)]"
   ]
  },
  {
   "cell_type": "code",
   "execution_count": 365,
   "metadata": {},
   "outputs": [
    {
     "data": {
      "text/plain": [
       "[array(['brand', 'form', 'cattle', 'brain', 'advisory', 'appointed', 'opt',\n",
       "        'members', 'assessment', 'council'], dtype=object),\n",
       " array(['local', 'capital', 'education', 'districts', 'chartered',\n",
       "        'students', 'schools', 'district', 'charter', 'school'],\n",
       "       dtype=object),\n",
       " array(['loan', 'unencumbered', 'unexpended', 'water', 'project',\n",
       "        'drinking', 'wastewater', 'fund', 'fiscal', 'revolving'],\n",
       "       dtype=object),\n",
       " array(['department', 'coverage', 'medicaid', 'facility', 'treatment',\n",
       "        'behavioral', 'medical', 'provider', 'care', 'health'],\n",
       "       dtype=object),\n",
       " array(['carrier', 'improper', 'transportation', 'dealer', 'driving',\n",
       "        'highway', 'vehicles', 'driver', 'motor', 'vehicle'], dtype=object),\n",
       " array(['district', 'fee', 'director', 'administrative', 'judicial',\n",
       "        'supreme', 'office', 'magistrate', 'court', 'courts'], dtype=object),\n",
       " array(['notice', 'filing', 'record', 'records', 'corporation',\n",
       "        'department', 'hearing', 'secretary', 'electronic', 'information'],\n",
       "       dtype=object),\n",
       " array(['custodian', 'abuse', 'foster', 'care', 'court', 'custody',\n",
       "        'guardian', 'parent', 'children', 'child'], dtype=object),\n",
       " array(['elective', 'high', 'step', 'students', 'units', 'grade',\n",
       "        'education', 'graduation', 'school', 'student'], dtype=object),\n",
       " array(['survivor', 'annuity', 'contributions', 'coverage', 'credit',\n",
       "        'salary', 'retired', 'pension', 'retirement', 'member'],\n",
       "       dtype=object),\n",
       " array(['santa', 'sfc', 'renovate', 'install', 'albuquerque', 'center',\n",
       "        'bernalillo', 'severance', 'improvements', 'equip'], dtype=object),\n",
       " array(['party', 'primary', 'office', 'political', 'contributions',\n",
       "        'campaign', 'ballot', 'voter', 'candidate', 'election'],\n",
       "       dtype=object),\n",
       " array(['consumption', 'small', 'brewer', 'premises', 'liquor', 'beer',\n",
       "        'beverages', 'winegrower', 'alcoholic', 'wine'], dtype=object),\n",
       " array(['clerk', 'chief', 'disbursed', 'resolutions', 'session',\n",
       "        'memorials', 'house', 'council', 'senate', 'legislative'],\n",
       "       dtype=object),\n",
       " array(['july', 'distribution', 'taxpayer', 'business', 'increment',\n",
       "        'deducted', 'revenue', 'deduction', 'gross', 'receipts'],\n",
       "       dtype=object),\n",
       " array(['project', 'cigarette', 'issued', 'district', 'interest',\n",
       "        'proceeds', 'finance', 'revenue', 'authority', 'bonds'],\n",
       "       dtype=object),\n",
       " array(['premium', 'self', 'producer', 'benefits', 'policy', 'group',\n",
       "        'coverage', 'insurer', 'superintendent', 'insurance'], dtype=object),\n",
       " array(['solar', 'generation', 'efficiency', 'load', 'electric',\n",
       "        'cooperative', 'portfolio', 'utility', 'renewable', 'energy'],\n",
       "       dtype=object),\n",
       " array(['distribution', 'pursuant', 'department', 'secretary',\n",
       "        'distributed', 'settlement', 'tobacco', 'fiscal', 'money', 'fund'],\n",
       "       dtype=object),\n",
       " array(['businesses', 'pool', 'deposit', 'government', 'invested',\n",
       "        'business', 'investments', 'securities', 'treasurer', 'investment'],\n",
       "       dtype=object),\n",
       " array(['domestic', 'reuse', 'city', 'mutual', 'conservation', 'delivery',\n",
       "        'storage', 'conveyance', 'project', 'water'], dtype=object),\n",
       " array(['forces', 'motor', 'vehicle', 'armed', 'veteran', 'fee', 'plates',\n",
       "        'special', 'plate', 'registration'], dtype=object),\n",
       " array(['grants', 'congress', 'sections', 'lands', 'trustees', 'town',\n",
       "        'confirmed', 'grant', 'merced', 'land'], dtype=object),\n",
       " array(['debt', 'acquisition', 'infrastructure', 'building', 'road',\n",
       "        'waste', 'solid', 'wastewater', 'refinance', 'water'], dtype=object),\n",
       " array(['tips', 'employees', 'worker', 'compensation', 'rate',\n",
       "        'employment', 'lobbyist', 'wage', 'employee', 'employer'],\n",
       "       dtype=object),\n",
       " array(['community', 'students', 'college', 'student', 'post',\n",
       "        'institution', 'educational', 'secondary', 'tuition',\n",
       "        'scholarship'], dtype=object),\n",
       " array(['device', 'physician', 'pharmacist', 'patient', 'nurse', 'use',\n",
       "        'licensed', 'prescription', 'practitioner', 'drug'], dtype=object),\n",
       " array(['local', 'distribution', 'territory', 'fuel', 'governing', 'body',\n",
       "        'historic', 'ordinance', 'municipal', 'municipality'], dtype=object),\n",
       " array(['contractual', 'fund', 'item', 'outcome', 'target', 'hafc',\n",
       "        'inter', 'appropriations', 'intrnl', 'trnsf'], dtype=object),\n",
       " array(['lease', 'broker', 'value', 'delinquent', 'estate', 'owner',\n",
       "        'taxes', 'sale', 'real', 'property'], dtype=object),\n",
       " array(['highly', 'principal', 'department', 'competency', 'teachers',\n",
       "        'teaching', 'evaluation', 'school', 'level', 'teacher'],\n",
       "       dtype=object),\n",
       " array(['department', 'company', 'solar', 'return', 'taxable', 'taxpayer',\n",
       "        'income', 'production', 'film', 'credit'], dtype=object),\n",
       " array(['fee', 'military', 'licensing', 'practice', 'application',\n",
       "        'occupational', 'licensee', 'renewal', 'applicant', 'license'],\n",
       "       dtype=object),\n",
       " array(['licensee', 'association', 'laboratory', 'racetrack', 'carrier',\n",
       "        'racehorse', 'testing', 'horse', 'racing', 'commission'],\n",
       "       dtype=object),\n",
       " array(['business', 'cultural', 'infrastructure', 'local', 'agricultural',\n",
       "        'entity', 'qualifying', 'project', 'economic', 'development'],\n",
       "       dtype=object),\n",
       " array(['practice', 'assistance', 'osteopathic', 'department', 'loans',\n",
       "        'award', 'education', 'applicant', 'repayment', 'loan'],\n",
       "       dtype=object),\n",
       " array(['personal', 'engineering', 'local', 'body', 'construction',\n",
       "        'contract', 'tangible', 'contracts', 'purchasing', 'procurement'],\n",
       "       dtype=object),\n",
       " array(['enforcement', 'protection', 'victim', 'felony', 'conviction',\n",
       "        'order', 'court', 'parole', 'criminal', 'sexual'], dtype=object)]"
      ]
     },
     "execution_count": 365,
     "metadata": {},
     "output_type": "execute_result"
    }
   ],
   "source": [
    "topic_nmf_tfidf = list(range(38))\n",
    "top_nmf_tfidf[:38]"
   ]
  },
  {
   "cell_type": "code",
   "execution_count": null,
   "metadata": {},
   "outputs": [],
   "source": []
  }
 ],
 "metadata": {
  "kernelspec": {
   "display_name": "Python 3",
   "language": "python",
   "name": "python3"
  },
  "language_info": {
   "codemirror_mode": {
    "name": "ipython",
    "version": 3
   },
   "file_extension": ".py",
   "mimetype": "text/x-python",
   "name": "python",
   "nbconvert_exporter": "python",
   "pygments_lexer": "ipython3",
   "version": "3.8.5"
  }
 },
 "nbformat": 4,
 "nbformat_minor": 4
}
